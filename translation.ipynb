{
  "nbformat": 4,
  "nbformat_minor": 0,
  "metadata": {
    "colab": {
      "name": "translation.ipynb",
      "provenance": [],
      "collapsed_sections": []
    },
    "kernelspec": {
      "name": "python3",
      "display_name": "Python 3"
    },
    "language_info": {
      "name": "python"
    }
  },
  "cells": [
    {
      "cell_type": "code",
      "source": [
        "!pip install translate-toolkit transformers sentencepiece\n"
      ],
      "metadata": {
        "colab": {
          "base_uri": "https://localhost:8080/"
        },
        "id": "m063S3oXB5nN",
        "outputId": "7358b7ca-efcd-414d-f5f5-818c55741a9c"
      },
      "execution_count": 2,
      "outputs": [
        {
          "output_type": "stream",
          "name": "stdout",
          "text": [
            "Installing collected packages: sentencepiece\n",
            "Successfully installed sentencepiece-0.1.96\n"
          ]
        }
      ]
    },
    {
      "cell_type": "code",
      "execution_count": null,
      "metadata": {
        "id": "sIUAA3VGATbR"
      },
      "outputs": [],
      "source": [
        "!wget -O dataset.txt.zip https://opus.nlpl.eu/download.php?f=TEP/v1/moses/en-fa.txt.zip\n",
        "!unzip dataset.txt.zip\n"
      ]
    },
    {
      "cell_type": "code",
      "source": [
        "with open(\"TEP.en-fa.en\", 'rb') as enfile:\n",
        "  en_lines_list = [line.decode(\"UTF-8\").rstrip() for line in enfile]\n",
        "\n",
        "with open('TEP.en-fa.fa') as fafile:\n",
        "  fa_lines_list = [line.rstrip() for line in fafile]\n",
        "\n",
        "print(\"len en lines: \", len(en_lines_list))\n",
        "print(\"len fa lines: \", len(fa_lines_list))\n",
        "print(\"first en sentence: \", en_lines_list[0])\n",
        "print(\"first fa sentence: \", fa_lines_list[0])"
      ],
      "metadata": {
        "colab": {
          "base_uri": "https://localhost:8080/"
        },
        "id": "VGP2D7yoCwHF",
        "outputId": "296771a4-9433-412b-c605-143349df4f05"
      },
      "execution_count": 24,
      "outputs": [
        {
          "output_type": "stream",
          "name": "stdout",
          "text": [
            "len en lines:  612086\n",
            "len fa lines:  612086\n",
            "first en sentence:  raspy breathing .\n",
            "first fa sentence:  صداي خر خر .\n"
          ]
        }
      ]
    },
    {
      "cell_type": "code",
      "source": [
        ""
      ],
      "metadata": {
        "colab": {
          "base_uri": "https://localhost:8080/"
        },
        "id": "jJbwDbneFT-R",
        "outputId": "333b6ee9-e7d8-47f8-d129-a03214dc9c37"
      },
      "execution_count": 13,
      "outputs": [
        {
          "output_type": "stream",
          "name": "stdout",
          "text": [
            "612086\n"
          ]
        }
      ]
    },
    {
      "cell_type": "code",
      "source": [
        "lines[612085]"
      ],
      "metadata": {
        "colab": {
          "base_uri": "https://localhost:8080/",
          "height": 36
        },
        "id": "CSXonrAAGZw5",
        "outputId": "08e2d33b-284a-4c9d-c5de-63d793b6e76e"
      },
      "execution_count": 18,
      "outputs": [
        {
          "output_type": "execute_result",
          "data": {
            "text/plain": [
              "'مداري .'"
            ],
            "application/vnd.google.colaboratory.intrinsic+json": {
              "type": "string"
            }
          },
          "metadata": {},
          "execution_count": 18
        }
      ]
    },
    {
      "cell_type": "code",
      "source": [
        ""
      ],
      "metadata": {
        "id": "ShKOZYAQGax0"
      },
      "execution_count": null,
      "outputs": []
    }
  ]
}