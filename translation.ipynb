{
  "nbformat": 4,
  "nbformat_minor": 0,
  "metadata": {
    "colab": {
      "name": "translation.ipynb",
      "provenance": [],
      "collapsed_sections": []
    },
    "kernelspec": {
      "name": "python3",
      "display_name": "Python 3"
    },
    "language_info": {
      "name": "python"
    },
    "accelerator": "GPU",
    "gpuClass": "standard"
  },
  "cells": [
    {
      "cell_type": "code",
      "source": [
        "!pip install translate-toolkit transformers sentencepiece\n"
      ],
      "metadata": {
        "colab": {
          "base_uri": "https://localhost:8080/"
        },
        "id": "m063S3oXB5nN",
        "outputId": "b1c7c42d-e8fa-4f81-c3e5-2f5adf78d229"
      },
      "execution_count": 1,
      "outputs": [
        {
          "output_type": "stream",
          "name": "stdout",
          "text": [
            "Looking in indexes: https://pypi.org/simple, https://us-python.pkg.dev/colab-wheels/public/simple/\n",
            "Collecting translate-toolkit\n",
            "  Downloading translate_toolkit-3.7.1-py3-none-any.whl (1.1 MB)\n",
            "\u001b[K     |████████████████████████████████| 1.1 MB 5.3 MB/s \n",
            "\u001b[?25hCollecting transformers\n",
            "  Downloading transformers-4.20.1-py3-none-any.whl (4.4 MB)\n",
            "\u001b[K     |████████████████████████████████| 4.4 MB 52.7 MB/s \n",
            "\u001b[?25hCollecting sentencepiece\n",
            "  Downloading sentencepiece-0.1.96-cp37-cp37m-manylinux_2_17_x86_64.manylinux2014_x86_64.whl (1.2 MB)\n",
            "\u001b[K     |████████████████████████████████| 1.2 MB 58.2 MB/s \n",
            "\u001b[?25hCollecting lxml>=4.6.3\n",
            "  Downloading lxml-4.9.1-cp37-cp37m-manylinux_2_17_x86_64.manylinux2014_x86_64.manylinux_2_24_x86_64.whl (6.4 MB)\n",
            "\u001b[K     |████████████████████████████████| 6.4 MB 35.2 MB/s \n",
            "\u001b[?25hRequirement already satisfied: filelock in /usr/local/lib/python3.7/dist-packages (from transformers) (3.7.1)\n",
            "Requirement already satisfied: packaging>=20.0 in /usr/local/lib/python3.7/dist-packages (from transformers) (21.3)\n",
            "Requirement already satisfied: regex!=2019.12.17 in /usr/local/lib/python3.7/dist-packages (from transformers) (2022.6.2)\n",
            "Collecting huggingface-hub<1.0,>=0.1.0\n",
            "  Downloading huggingface_hub-0.8.1-py3-none-any.whl (101 kB)\n",
            "\u001b[K     |████████████████████████████████| 101 kB 11.1 MB/s \n",
            "\u001b[?25hRequirement already satisfied: tqdm>=4.27 in /usr/local/lib/python3.7/dist-packages (from transformers) (4.64.0)\n",
            "Collecting tokenizers!=0.11.3,<0.13,>=0.11.1\n",
            "  Downloading tokenizers-0.12.1-cp37-cp37m-manylinux_2_12_x86_64.manylinux2010_x86_64.whl (6.6 MB)\n",
            "\u001b[K     |████████████████████████████████| 6.6 MB 39.3 MB/s \n",
            "\u001b[?25hRequirement already satisfied: numpy>=1.17 in /usr/local/lib/python3.7/dist-packages (from transformers) (1.21.6)\n",
            "Requirement already satisfied: requests in /usr/local/lib/python3.7/dist-packages (from transformers) (2.23.0)\n",
            "Collecting pyyaml>=5.1\n",
            "  Downloading PyYAML-6.0-cp37-cp37m-manylinux_2_5_x86_64.manylinux1_x86_64.manylinux_2_12_x86_64.manylinux2010_x86_64.whl (596 kB)\n",
            "\u001b[K     |████████████████████████████████| 596 kB 66.2 MB/s \n",
            "\u001b[?25hRequirement already satisfied: importlib-metadata in /usr/local/lib/python3.7/dist-packages (from transformers) (4.12.0)\n",
            "Requirement already satisfied: typing-extensions>=3.7.4.3 in /usr/local/lib/python3.7/dist-packages (from huggingface-hub<1.0,>=0.1.0->transformers) (4.1.1)\n",
            "Requirement already satisfied: pyparsing!=3.0.5,>=2.0.2 in /usr/local/lib/python3.7/dist-packages (from packaging>=20.0->transformers) (3.0.9)\n",
            "Requirement already satisfied: zipp>=0.5 in /usr/local/lib/python3.7/dist-packages (from importlib-metadata->transformers) (3.8.0)\n",
            "Requirement already satisfied: urllib3!=1.25.0,!=1.25.1,<1.26,>=1.21.1 in /usr/local/lib/python3.7/dist-packages (from requests->transformers) (1.24.3)\n",
            "Requirement already satisfied: chardet<4,>=3.0.2 in /usr/local/lib/python3.7/dist-packages (from requests->transformers) (3.0.4)\n",
            "Requirement already satisfied: idna<3,>=2.5 in /usr/local/lib/python3.7/dist-packages (from requests->transformers) (2.10)\n",
            "Requirement already satisfied: certifi>=2017.4.17 in /usr/local/lib/python3.7/dist-packages (from requests->transformers) (2022.6.15)\n",
            "Installing collected packages: pyyaml, tokenizers, lxml, huggingface-hub, translate-toolkit, transformers, sentencepiece\n",
            "  Attempting uninstall: pyyaml\n",
            "    Found existing installation: PyYAML 3.13\n",
            "    Uninstalling PyYAML-3.13:\n",
            "      Successfully uninstalled PyYAML-3.13\n",
            "  Attempting uninstall: lxml\n",
            "    Found existing installation: lxml 4.2.6\n",
            "    Uninstalling lxml-4.2.6:\n",
            "      Successfully uninstalled lxml-4.2.6\n",
            "Successfully installed huggingface-hub-0.8.1 lxml-4.9.1 pyyaml-6.0 sentencepiece-0.1.96 tokenizers-0.12.1 transformers-4.20.1 translate-toolkit-3.7.1\n"
          ]
        }
      ]
    },
    {
      "cell_type": "code",
      "execution_count": 2,
      "metadata": {
        "id": "sIUAA3VGATbR",
        "colab": {
          "base_uri": "https://localhost:8080/"
        },
        "outputId": "96684226-71b5-4533-85c2-64561d3fba46"
      },
      "outputs": [
        {
          "output_type": "stream",
          "name": "stdout",
          "text": [
            "--2022-07-14 00:08:33--  https://opus.nlpl.eu/download.php?f=TEP/v1/moses/en-fa.txt.zip\n",
            "Resolving opus.nlpl.eu (opus.nlpl.eu)... 193.166.25.9\n",
            "Connecting to opus.nlpl.eu (opus.nlpl.eu)|193.166.25.9|:443... connected.\n",
            "HTTP request sent, awaiting response... 302 Found\n",
            "Location: https://object.pouta.csc.fi/OPUS-TEP/v1/moses/en-fa.txt.zip [following]\n",
            "--2022-07-14 00:08:35--  https://object.pouta.csc.fi/OPUS-TEP/v1/moses/en-fa.txt.zip\n",
            "Resolving object.pouta.csc.fi (object.pouta.csc.fi)... 86.50.254.18, 86.50.254.19\n",
            "Connecting to object.pouta.csc.fi (object.pouta.csc.fi)|86.50.254.18|:443... connected.\n",
            "HTTP request sent, awaiting response... 200 OK\n",
            "Length: 16353318 (16M) [application/zip]\n",
            "Saving to: ‘dataset.txt.zip’\n",
            "\n",
            "dataset.txt.zip     100%[===================>]  15.60M  10.3MB/s    in 1.5s    \n",
            "\n",
            "2022-07-14 00:08:37 (10.3 MB/s) - ‘dataset.txt.zip’ saved [16353318/16353318]\n",
            "\n",
            "Archive:  dataset.txt.zip\n",
            "  inflating: TEP.en-fa.en            \n",
            "  inflating: TEP.en-fa.fa            \n",
            "  inflating: README                  \n"
          ]
        }
      ],
      "source": [
        "!wget -O dataset.txt.zip https://opus.nlpl.eu/download.php?f=TEP/v1/moses/en-fa.txt.zip\n",
        "!unzip dataset.txt.zip\n"
      ]
    },
    {
      "cell_type": "code",
      "source": [
        "from google.colab import drive\n",
        "from IPython.display import display\n",
        "from IPython.html import widgets\n",
        "import matplotlib.pyplot as plt\n",
        "import numpy as np\n",
        "import random\n",
        "import seaborn as sns\n",
        "import torch\n",
        "from torch import optim\n",
        "from torch.nn import functional as F\n",
        "from transformers import AdamW, AutoModelForSeq2SeqLM, AutoTokenizer\n",
        "from transformers import get_linear_schedule_with_warmup\n",
        "from tqdm import tqdm_notebook\n",
        "\n",
        "sns.set()"
      ],
      "metadata": {
        "id": "A3sVXPlZdOGZ",
        "colab": {
          "base_uri": "https://localhost:8080/"
        },
        "outputId": "dd61cc03-a372-420e-912b-dfa6ecd204ac"
      },
      "execution_count": 3,
      "outputs": [
        {
          "output_type": "stream",
          "name": "stderr",
          "text": [
            "/usr/local/lib/python3.7/dist-packages/IPython/html.py:14: ShimWarning: The `IPython.html` package has been deprecated since IPython 4.0. You should import from `notebook` instead. `IPython.html.widgets` has moved to `ipywidgets`.\n",
            "  \"`IPython.html.widgets` has moved to `ipywidgets`.\", ShimWarning)\n"
          ]
        }
      ]
    },
    {
      "cell_type": "code",
      "source": [
        "\n",
        "with open(\"TEP.en-fa.en\", 'rb') as enfile:\n",
        "  en_lines_list = [line.decode(\"UTF-8\").rstrip() for line in enfile]\n",
        "\n",
        "with open('TEP.en-fa.fa') as fafile:\n",
        "  fa_lines_list = [line.rstrip() for line in fafile]\n",
        "\n",
        "# { sentence_id: 1, translation: {\"en\": \"hello\", \"fa\": \"سلام\"}\n",
        "sentences = []\n",
        "for i in range(0, len(en_lines_list)):\n",
        "  sentences.append({\n",
        "        \"en\": en_lines_list[i],\n",
        "        \"fa\": fa_lines_list[i]\n",
        "  })\n",
        "\n",
        "print(\"len en lines: \", len(en_lines_list))\n",
        "print(\"len fa lines: \", len(fa_lines_list))\n",
        "print(\"first en sentence: \", en_lines_list[0])\n",
        "print(\"first fa sentence: \", fa_lines_list[0])"
      ],
      "metadata": {
        "colab": {
          "base_uri": "https://localhost:8080/"
        },
        "id": "VGP2D7yoCwHF",
        "outputId": "2e3a5ef6-3560-4d2f-bef6-ed41eef14cf3"
      },
      "execution_count": 4,
      "outputs": [
        {
          "output_type": "stream",
          "name": "stdout",
          "text": [
            "len en lines:  612086\n",
            "len fa lines:  612086\n",
            "first en sentence:  raspy breathing .\n",
            "first fa sentence:  صداي خر خر .\n"
          ]
        }
      ]
    },
    {
      "cell_type": "code",
      "source": [
        "sentences[2:6]"
      ],
      "metadata": {
        "colab": {
          "base_uri": "https://localhost:8080/"
        },
        "id": "RdRo40gyFHBN",
        "outputId": "3605f474-066e-4854-c474-846af4c80b4d"
      },
      "execution_count": 5,
      "outputs": [
        {
          "output_type": "execute_result",
          "data": {
            "text/plain": [
              "[{'en': 'maybe its the wind .', 'fa': 'شايد صداي باد باشه .'},\n",
              " {'en': 'no .', 'fa': 'نه .'},\n",
              " {'en': 'stop please stop .',\n",
              "  'fa': 'دست نگه داريد خواهش ميکنم دست نگه داريد .'},\n",
              " {'en': 'you have a week , evans then well burn the house .',\n",
              "  'fa': 'اوانز تو فقط يک هفته وقت داري وگرنه خونتو خواهيم سوزوند .'}]"
            ]
          },
          "metadata": {},
          "execution_count": 5
        }
      ]
    },
    {
      "cell_type": "code",
      "source": [
        "random.shuffle(sentences)\n",
        "train_slice = int(len(sentences) * 0.8)\n",
        "train_dataset = sentences[:train_slice]\n",
        "test_dataset = sentences[train_slice:]"
      ],
      "metadata": {
        "id": "pdlU8c0DH-mj"
      },
      "execution_count": 6,
      "outputs": []
    },
    {
      "cell_type": "code",
      "source": [
        "drive.mount('/content/gdrive')"
      ],
      "metadata": {
        "colab": {
          "base_uri": "https://localhost:8080/"
        },
        "id": "tzu94zJHQWD8",
        "outputId": "462034cc-c811-419b-bc8a-9862f5bdbb75"
      },
      "execution_count": 7,
      "outputs": [
        {
          "output_type": "stream",
          "name": "stdout",
          "text": [
            "Mounted at /content/gdrive\n"
          ]
        }
      ]
    },
    {
      "cell_type": "code",
      "source": [
        "model_repo = 'google/mt5-small'\n",
        "model_path = \"/content/gdrive/MyDrive/mt5_translation.pt\"\n",
        "max_seq_len = 20\n",
        "# model.config.maxlength = 40"
      ],
      "metadata": {
        "id": "ShKOZYAQGax0"
      },
      "execution_count": 8,
      "outputs": []
    }
  ]
}